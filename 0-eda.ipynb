{
 "cells": [
  {
   "cell_type": "code",
   "execution_count": 1,
   "metadata": {},
   "outputs": [],
   "source": [
    "import ast\n",
    "import datetime\n",
    "from elasticsearch import Elasticsearch\n",
    "import hashlib\n",
    "import json\n",
    "import matplotlib.pyplot as plt\n",
    "import numpy as np\n",
    "import os\n",
    "import pandas as pd\n",
    "import pytrec_eval\n",
    "from tqdm import tqdm\n",
    "\n",
    "current_timestamp = datetime.datetime.now()\n",
    "\n"
   ]
  },
  {
   "cell_type": "markdown",
   "metadata": {},
   "source": [
    "# Data Exploration"
   ]
  },
  {
   "cell_type": "markdown",
   "metadata": {},
   "source": [
    "## `train.csv` and  `test.csv`"
   ]
  },
  {
   "cell_type": "code",
   "execution_count": 2,
   "metadata": {},
   "outputs": [
    {
     "name": "stdout",
     "output_type": "stream",
     "text": [
      "training shape: (74067, 6)\n",
      "test shape: (166693, 5)\n",
      "df.head():\n"
     ]
    },
    {
     "data": {
      "text/html": [
       "<div>\n",
       "<style scoped>\n",
       "    .dataframe tbody tr th:only-of-type {\n",
       "        vertical-align: middle;\n",
       "    }\n",
       "\n",
       "    .dataframe tbody tr th {\n",
       "        vertical-align: top;\n",
       "    }\n",
       "\n",
       "    .dataframe thead th {\n",
       "        text-align: right;\n",
       "    }\n",
       "</style>\n",
       "<table border=\"1\" class=\"dataframe\">\n",
       "  <thead>\n",
       "    <tr style=\"text-align: right;\">\n",
       "      <th></th>\n",
       "      <th>id</th>\n",
       "      <th>product_uid</th>\n",
       "      <th>product_title</th>\n",
       "      <th>search_term</th>\n",
       "      <th>relevance</th>\n",
       "      <th>filename</th>\n",
       "    </tr>\n",
       "  </thead>\n",
       "  <tbody>\n",
       "    <tr>\n",
       "      <th>0</th>\n",
       "      <td>2</td>\n",
       "      <td>100001</td>\n",
       "      <td>Simpson Strong-Tie 12-Gauge Angle</td>\n",
       "      <td>angle bracket</td>\n",
       "      <td>3.00</td>\n",
       "      <td>train.csv</td>\n",
       "    </tr>\n",
       "    <tr>\n",
       "      <th>1</th>\n",
       "      <td>3</td>\n",
       "      <td>100001</td>\n",
       "      <td>Simpson Strong-Tie 12-Gauge Angle</td>\n",
       "      <td>l bracket</td>\n",
       "      <td>2.50</td>\n",
       "      <td>train.csv</td>\n",
       "    </tr>\n",
       "    <tr>\n",
       "      <th>2</th>\n",
       "      <td>9</td>\n",
       "      <td>100002</td>\n",
       "      <td>BEHR Premium Textured DeckOver 1-gal. #SC-141 ...</td>\n",
       "      <td>deck over</td>\n",
       "      <td>3.00</td>\n",
       "      <td>train.csv</td>\n",
       "    </tr>\n",
       "    <tr>\n",
       "      <th>3</th>\n",
       "      <td>16</td>\n",
       "      <td>100005</td>\n",
       "      <td>Delta Vero 1-Handle Shower Only Faucet Trim Ki...</td>\n",
       "      <td>rain shower head</td>\n",
       "      <td>2.33</td>\n",
       "      <td>train.csv</td>\n",
       "    </tr>\n",
       "    <tr>\n",
       "      <th>4</th>\n",
       "      <td>17</td>\n",
       "      <td>100005</td>\n",
       "      <td>Delta Vero 1-Handle Shower Only Faucet Trim Ki...</td>\n",
       "      <td>shower only faucet</td>\n",
       "      <td>2.67</td>\n",
       "      <td>train.csv</td>\n",
       "    </tr>\n",
       "  </tbody>\n",
       "</table>\n",
       "</div>"
      ],
      "text/plain": [
       "   id  product_uid                                      product_title  \\\n",
       "0   2       100001                  Simpson Strong-Tie 12-Gauge Angle   \n",
       "1   3       100001                  Simpson Strong-Tie 12-Gauge Angle   \n",
       "2   9       100002  BEHR Premium Textured DeckOver 1-gal. #SC-141 ...   \n",
       "3  16       100005  Delta Vero 1-Handle Shower Only Faucet Trim Ki...   \n",
       "4  17       100005  Delta Vero 1-Handle Shower Only Faucet Trim Ki...   \n",
       "\n",
       "          search_term  relevance   filename  \n",
       "0       angle bracket       3.00  train.csv  \n",
       "1           l bracket       2.50  train.csv  \n",
       "2           deck over       3.00  train.csv  \n",
       "3    rain shower head       2.33  train.csv  \n",
       "4  shower only faucet       2.67  train.csv  "
      ]
     },
     "execution_count": 2,
     "metadata": {},
     "output_type": "execute_result"
    }
   ],
   "source": [
    "df_train = pd.read_csv('raw_data/train.csv', encoding = 'ISO-8859-1')\n",
    "df_train['filename'] = 'train.csv'\n",
    "\n",
    "df_test = pd.read_csv('raw_data/test.csv', encoding = 'ISO-8859-1')\n",
    "df_test['filename'] = 'test.csv'\n",
    "\n",
    "print(f'training shape: {str(df_train.shape)}')\n",
    "print(f'test shape: {str(df_test.shape)}')\n",
    "\n",
    "df = pd.concat([df_train, df_test]).reset_index(drop=True)\n",
    "print(f'df.head():')\n",
    "df.head()"
   ]
  },
  {
   "cell_type": "code",
   "execution_count": 3,
   "metadata": {},
   "outputs": [
    {
     "name": "stdout",
     "output_type": "stream",
     "text": [
      "Total Number of Unique Search Terms: 24601\n",
      "Unique Search Terms in 'train.csv': 11795\n",
      "Unique Search Terms in 'test.csv': 22427\n",
      "Unique Search Terms in Both: 9621\n"
     ]
    }
   ],
   "source": [
    "# How many unique search terms are there?\n",
    "\n",
    "total_unique_terms = len(df['search_term'].unique())\n",
    "print(\"Total Number of Unique Search Terms:\", total_unique_terms)\n",
    "\n",
    "train_df = df[df['filename'] == 'train.csv']\n",
    "unique_terms_train = len(train_df['search_term'].unique())\n",
    "print(\"Unique Search Terms in 'train.csv':\", unique_terms_train)\n",
    "\n",
    "test_df = df[df['filename'] == 'test.csv']\n",
    "unique_terms_test = len(test_df['search_term'].unique())\n",
    "print(\"Unique Search Terms in 'test.csv':\", unique_terms_test)\n",
    "\n",
    "train_terms = set(train_df['search_term'].unique())\n",
    "test_terms = set(test_df['search_term'].unique())\n",
    "\n",
    "shared_terms = train_terms.intersection(test_terms)\n",
    "unique_terms_both = len(shared_terms)\n",
    "\n",
    "print(\"Unique Search Terms in Both:\", unique_terms_both) \n",
    "\n",
    "\n",
    "\n"
   ]
  },
  {
   "cell_type": "code",
   "execution_count": 4,
   "metadata": {},
   "outputs": [
    {
     "data": {
      "text/plain": [
       "1     2286\n",
       "2     1671\n",
       "3     1314\n",
       "4     1020\n",
       "5      940\n",
       "6      908\n",
       "7     1001\n",
       "8     1181\n",
       "9     1344\n",
       "10    1438\n",
       "11    1447\n",
       "12    1333\n",
       "13    1166\n",
       "14    1152\n",
       "15    1309\n",
       "16    1323\n",
       "17    1305\n",
       "18     981\n",
       "19     650\n",
       "20     350\n",
       "21     115\n",
       "22      33\n",
       "23     333\n",
       "36       1\n",
       "Name: count, dtype: int64"
      ]
     },
     "execution_count": 4,
     "metadata": {},
     "output_type": "execute_result"
    }
   ],
   "source": [
    "# How many results do we get per search term?\n",
    "\n",
    "df.groupby('search_term').size().value_counts().sort_index()"
   ]
  },
  {
   "cell_type": "code",
   "execution_count": 5,
   "metadata": {},
   "outputs": [
    {
     "data": {
      "image/png": "[encoded data removed]",
      "text/plain": [
       "<Figure size 640x480 with 1 Axes>"
      ]
     },
     "metadata": {},
     "output_type": "display_data"
    }
   ],
   "source": [
    "search_term_counts = df.groupby('search_term').size().value_counts().sort_index()\n",
    "\n",
    "plt.figure()\n",
    "plt.bar(search_term_counts.index, search_term_counts.values)\n",
    "plt.xlabel('Number of Search Results')\n",
    "plt.ylabel('Count of Searches')\n",
    "plt.title('Distribution of Search Results Counts') \n",
    "plt.tight_layout()\n",
    "plt.show()"
   ]
  },
  {
   "cell_type": "code",
   "execution_count": 6,
   "metadata": {},
   "outputs": [
    {
     "data": {
      "image/png": "[encoded data removed]",
      "text/plain": [
       "<Figure size 640x480 with 1 Axes>"
      ]
     },
     "metadata": {},
     "output_type": "display_data"
    }
   ],
   "source": [
    "search_term_counts = df[df['filename']=='train.csv'].groupby('search_term').size().value_counts().sort_index()\n",
    "\n",
    "plt.figure()\n",
    "plt.bar(search_term_counts.index, search_term_counts.values)\n",
    "plt.xlabel('Number of Search Results')\n",
    "plt.ylabel('Count of Searches')\n",
    "plt.title('Distribution of Search Results Counts in train.csv') \n",
    "plt.tight_layout()\n",
    "plt.show()"
   ]
  },
  {
   "cell_type": "code",
   "execution_count": 7,
   "metadata": {},
   "outputs": [
    {
     "data": {
      "image/png": "[encoded data removed]",
      "text/plain": [
       "<Figure size 640x480 with 1 Axes>"
      ]
     },
     "metadata": {},
     "output_type": "display_data"
    }
   ],
   "source": [
    "search_term_counts = df[df['filename']=='test.csv'].groupby('search_term').size().value_counts().sort_index()\n",
    "\n",
    "plt.figure()\n",
    "plt.bar(search_term_counts.index, search_term_counts.values)\n",
    "plt.xlabel('Number of Search Results')\n",
    "plt.ylabel('Count of Searches')\n",
    "plt.title('Distribution of Search Results Counts in test.csv') \n",
    "plt.tight_layout()\n",
    "plt.show()"
   ]
  },
  {
   "cell_type": "code",
   "execution_count": 8,
   "metadata": {},
   "outputs": [
    {
     "data": {
      "image/png": "[encoded data removed]",
      "text/plain": [
       "<Figure size 640x480 with 1 Axes>"
      ]
     },
     "metadata": {},
     "output_type": "display_data"
    }
   ],
   "source": [
    "# What about relevant search results?\n",
    "search_term_counts = df[df['relevance']>2].groupby('search_term').size().value_counts().sort_index()\n",
    "\n",
    "plt.figure()\n",
    "plt.bar(search_term_counts.index, search_term_counts.values)\n",
    "plt.xlabel('Number of Search Results')\n",
    "plt.ylabel('Count of Searches')\n",
    "plt.title('Distribution of Relevant (>2) Search Results Counts') \n",
    "plt.tight_layout()\n",
    "plt.show()"
   ]
  },
  {
   "cell_type": "code",
   "execution_count": 9,
   "metadata": {},
   "outputs": [
    {
     "data": {
      "image/png": "[encoded data removed]",
      "text/plain": [
       "<Figure size 640x480 with 1 Axes>"
      ]
     },
     "metadata": {},
     "output_type": "display_data"
    },
    {
     "name": "stdout",
     "output_type": "stream",
     "text": [
      "pd.describe() of all search lengths\n"
     ]
    },
    {
     "data": {
      "text/plain": [
       "count    240760.000000\n",
       "mean         18.187897\n",
       "std           7.733805\n",
       "min           1.000000\n",
       "25%          13.000000\n",
       "50%          17.000000\n",
       "75%          23.000000\n",
       "max          60.000000\n",
       "dtype: float64"
      ]
     },
     "execution_count": 9,
     "metadata": {},
     "output_type": "execute_result"
    }
   ],
   "source": [
    "# How long are the search terms?\n",
    "\n",
    "search_lengths = [len(x) for x in df['search_term']]\n",
    "search_lengths_train = [len(x) for x in df[df['filename']=='train.csv']['search_term']]\n",
    "search_lengths_test = [len(x) for x in df[df['filename']=='test.csv']['search_term']]\n",
    "\n",
    "# Create the boxplot\n",
    "plt.figure()\n",
    "plt.boxplot([search_lengths, search_lengths_train, search_lengths_test])\n",
    "plt.xticks([1, 2, 3], ['All', 'train.csv', 'test.csv'])  # Set labels\n",
    "plt.xlabel('Data Group')\n",
    "plt.ylabel('Search Term Length')\n",
    "plt.title('Distribution of Search Term Lengths')\n",
    "plt.show()\n",
    "\n",
    "print(\"pd.describe() of all search lengths\")\n",
    "pd.Series(search_lengths).describe()"
   ]
  },
  {
   "cell_type": "code",
   "execution_count": 10,
   "metadata": {},
   "outputs": [
    {
     "name": "stdout",
     "output_type": "stream",
     "text": [
      "Total Number of Unique Products: 124428\n",
      "Unique Products in 'train.csv': 54667\n",
      "Unique Products in 'test.csv': 97460\n",
      "Unique Products in Both: 27699\n"
     ]
    }
   ],
   "source": [
    "# How many unique products are there?\n",
    "\n",
    "total_unique_prods = len(df['product_uid'].unique())\n",
    "print(\"Total Number of Unique Products:\", total_unique_prods)\n",
    "\n",
    "train_df = df[df['filename'] == 'train.csv']\n",
    "unique_prods_train = len(train_df['product_uid'].unique())\n",
    "print(\"Unique Products in 'train.csv':\", unique_prods_train)\n",
    "\n",
    "test_df = df[df['filename'] == 'test.csv']\n",
    "unique_prods_test = len(test_df['product_uid'].unique())\n",
    "print(\"Unique Products in 'test.csv':\", unique_prods_test)\n",
    "\n",
    "train_prods = set(train_df['product_uid'].unique())\n",
    "test_prods = set(test_df['product_uid'].unique())\n",
    "\n",
    "shared_prods = train_prods.intersection(test_prods)\n",
    "unique_prods_both = len(shared_prods)\n",
    "\n",
    "print(\"Unique Products in Both:\", unique_prods_both) "
   ]
  },
  {
   "cell_type": "code",
   "execution_count": 11,
   "metadata": {},
   "outputs": [
    {
     "data": {
      "text/plain": [
       "relevance\n",
       "1.00     2105\n",
       "1.25        4\n",
       "1.33     3006\n",
       "1.50        5\n",
       "1.67     6780\n",
       "1.75        9\n",
       "2.00    11730\n",
       "2.25       11\n",
       "2.33    16060\n",
       "2.50       19\n",
       "2.67    15202\n",
       "2.75       11\n",
       "3.00    19125\n",
       "dtype: int64"
      ]
     },
     "execution_count": 11,
     "metadata": {},
     "output_type": "execute_result"
    }
   ],
   "source": [
    "# What does the distribution of relevance scores look like?\n",
    "\n",
    "df.groupby('relevance').size()"
   ]
  },
  {
   "cell_type": "code",
   "execution_count": 12,
   "metadata": {},
   "outputs": [
    {
     "data": {
      "image/png": "[encoded data removed]",
      "text/plain": [
       "<Figure size 640x480 with 1 Axes>"
      ]
     },
     "metadata": {},
     "output_type": "display_data"
    }
   ],
   "source": [
    "relevance_counts = df.groupby('relevance').size()\n",
    "\n",
    "plt.figure()\n",
    "plt.bar([str(x) for x in relevance_counts.index], relevance_counts.values)\n",
    "plt.xlabel('Relevance Score')\n",
    "plt.ylabel('Count of Results with Score')\n",
    "plt.title('Distribution of Relevance Score Values') \n",
    "plt.tight_layout()\n",
    "plt.show()"
   ]
  },
  {
   "cell_type": "markdown",
   "metadata": {},
   "source": [
    "## `product_descriptions.csv`"
   ]
  },
  {
   "cell_type": "code",
   "execution_count": 15,
   "metadata": {},
   "outputs": [
    {
     "name": "stdout",
     "output_type": "stream",
     "text": [
      "(124428, 2)\n"
     ]
    },
    {
     "data": {
      "text/html": [
       "<div>\n",
       "<style scoped>\n",
       "    .dataframe tbody tr th:only-of-type {\n",
       "        vertical-align: middle;\n",
       "    }\n",
       "\n",
       "    .dataframe tbody tr th {\n",
       "        vertical-align: top;\n",
       "    }\n",
       "\n",
       "    .dataframe thead th {\n",
       "        text-align: right;\n",
       "    }\n",
       "</style>\n",
       "<table border=\"1\" class=\"dataframe\">\n",
       "  <thead>\n",
       "    <tr style=\"text-align: right;\">\n",
       "      <th></th>\n",
       "      <th>product_uid</th>\n",
       "      <th>product_description</th>\n",
       "    </tr>\n",
       "  </thead>\n",
       "  <tbody>\n",
       "    <tr>\n",
       "      <th>0</th>\n",
       "      <td>100001</td>\n",
       "      <td>Not only do angles make joints stronger, they ...</td>\n",
       "    </tr>\n",
       "    <tr>\n",
       "      <th>1</th>\n",
       "      <td>100002</td>\n",
       "      <td>BEHR Premium Textured DECKOVER is an innovativ...</td>\n",
       "    </tr>\n",
       "    <tr>\n",
       "      <th>2</th>\n",
       "      <td>100003</td>\n",
       "      <td>Classic architecture meets contemporary design...</td>\n",
       "    </tr>\n",
       "    <tr>\n",
       "      <th>3</th>\n",
       "      <td>100004</td>\n",
       "      <td>The Grape Solar 265-Watt Polycrystalline PV So...</td>\n",
       "    </tr>\n",
       "    <tr>\n",
       "      <th>4</th>\n",
       "      <td>100005</td>\n",
       "      <td>Update your bathroom with the Delta Vero Singl...</td>\n",
       "    </tr>\n",
       "  </tbody>\n",
       "</table>\n",
       "</div>"
      ],
      "text/plain": [
       "   product_uid                                product_description\n",
       "0       100001  Not only do angles make joints stronger, they ...\n",
       "1       100002  BEHR Premium Textured DECKOVER is an innovativ...\n",
       "2       100003  Classic architecture meets contemporary design...\n",
       "3       100004  The Grape Solar 265-Watt Polycrystalline PV So...\n",
       "4       100005  Update your bathroom with the Delta Vero Singl..."
      ]
     },
     "execution_count": 15,
     "metadata": {},
     "output_type": "execute_result"
    }
   ],
   "source": [
    "df_desc = pd.read_csv('raw_data/product_descriptions.csv', encoding = 'ISO-8859-1')\n",
    "print(df_desc.shape)\n",
    "df_desc.head()"
   ]
  },
  {
   "cell_type": "code",
   "execution_count": 16,
   "metadata": {},
   "outputs": [
    {
     "data": {
      "text/plain": [
       "124428"
      ]
     },
     "execution_count": 16,
     "metadata": {},
     "output_type": "execute_result"
    }
   ],
   "source": [
    "# How many products are there, is it one row per?\n",
    "\n",
    "len(df_desc['product_uid'].unique())"
   ]
  },
  {
   "cell_type": "code",
   "execution_count": 17,
   "metadata": {},
   "outputs": [
    {
     "data": {
      "text/plain": [
       "True"
      ]
     },
     "execution_count": 17,
     "metadata": {},
     "output_type": "execute_result"
    }
   ],
   "source": [
    "# Do all products in the test and train sets have descriptions?\n",
    "\n",
    "df_product_uids = set(df['product_uid'])\n",
    "df_desc_product_uids = set(df_desc['product_uid'])\n",
    "\n",
    "df_product_uids.issubset(df_desc_product_uids)\n"
   ]
  },
  {
   "cell_type": "code",
   "execution_count": 18,
   "metadata": {},
   "outputs": [
    {
     "data": {
      "image/png": "[encoded data removed]",
      "text/plain": [
       "<Figure size 640x480 with 1 Axes>"
      ]
     },
     "metadata": {},
     "output_type": "display_data"
    },
    {
     "name": "stdout",
     "output_type": "stream",
     "text": [
      "pd.describe() of all description lengths\n"
     ]
    },
    {
     "data": {
      "text/plain": [
       "count    124428.000000\n",
       "mean        840.539051\n",
       "std         464.254728\n",
       "min           8.000000\n",
       "25%         509.000000\n",
       "50%         717.000000\n",
       "75%        1049.000000\n",
       "max        5641.000000\n",
       "dtype: float64"
      ]
     },
     "execution_count": 18,
     "metadata": {},
     "output_type": "execute_result"
    }
   ],
   "source": [
    "# How long are the descriptions terms?\n",
    "\n",
    "description_lengths = [len(x) for x in df_desc['product_description']]\n",
    "\n",
    "# Create the boxplot\n",
    "plt.figure()\n",
    "plt.boxplot(description_lengths)\n",
    "plt.ylabel('Description Length')\n",
    "plt.title('Distribution of Description Lengths')\n",
    "plt.show()\n",
    "\n",
    "print(\"pd.describe() of all description lengths\")\n",
    "pd.Series(description_lengths).describe()"
   ]
  },
  {
   "cell_type": "markdown",
   "metadata": {},
   "source": [
    "## `attributes.csv`"
   ]
  },
  {
   "cell_type": "code",
   "execution_count": 19,
   "metadata": {},
   "outputs": [
    {
     "name": "stdout",
     "output_type": "stream",
     "text": [
      "(2044803, 3)\n"
     ]
    },
    {
     "data": {
      "text/html": [
       "<div>\n",
       "<style scoped>\n",
       "    .dataframe tbody tr th:only-of-type {\n",
       "        vertical-align: middle;\n",
       "    }\n",
       "\n",
       "    .dataframe tbody tr th {\n",
       "        vertical-align: top;\n",
       "    }\n",
       "\n",
       "    .dataframe thead th {\n",
       "        text-align: right;\n",
       "    }\n",
       "</style>\n",
       "<table border=\"1\" class=\"dataframe\">\n",
       "  <thead>\n",
       "    <tr style=\"text-align: right;\">\n",
       "      <th></th>\n",
       "      <th>product_uid</th>\n",
       "      <th>name</th>\n",
       "      <th>value</th>\n",
       "    </tr>\n",
       "  </thead>\n",
       "  <tbody>\n",
       "    <tr>\n",
       "      <th>2044793</th>\n",
       "      <td>224428.0</td>\n",
       "      <td>Individual/Set</td>\n",
       "      <td>Individual</td>\n",
       "    </tr>\n",
       "    <tr>\n",
       "      <th>2044794</th>\n",
       "      <td>224428.0</td>\n",
       "      <td>Material Cut</td>\n",
       "      <td>Multi-Purpose</td>\n",
       "    </tr>\n",
       "    <tr>\n",
       "      <th>2044795</th>\n",
       "      <td>224428.0</td>\n",
       "      <td>MFG Brand Name</td>\n",
       "      <td>Bosch</td>\n",
       "    </tr>\n",
       "    <tr>\n",
       "      <th>2044796</th>\n",
       "      <td>224428.0</td>\n",
       "      <td>Min Chuck Size Required</td>\n",
       "      <td>3/8 In.</td>\n",
       "    </tr>\n",
       "    <tr>\n",
       "      <th>2044797</th>\n",
       "      <td>224428.0</td>\n",
       "      <td>Number of Pieces</td>\n",
       "      <td>1</td>\n",
       "    </tr>\n",
       "    <tr>\n",
       "      <th>2044798</th>\n",
       "      <td>224428.0</td>\n",
       "      <td>Pilot Bit Included</td>\n",
       "      <td>No</td>\n",
       "    </tr>\n",
       "    <tr>\n",
       "      <th>2044799</th>\n",
       "      <td>224428.0</td>\n",
       "      <td>Power Tool Product Type</td>\n",
       "      <td>Drill &amp; Router Bits</td>\n",
       "    </tr>\n",
       "    <tr>\n",
       "      <th>2044800</th>\n",
       "      <td>224428.0</td>\n",
       "      <td>Shank Diameter</td>\n",
       "      <td>3/8 in</td>\n",
       "    </tr>\n",
       "    <tr>\n",
       "      <th>2044801</th>\n",
       "      <td>224428.0</td>\n",
       "      <td>Shank Style</td>\n",
       "      <td>Hex</td>\n",
       "    </tr>\n",
       "    <tr>\n",
       "      <th>2044802</th>\n",
       "      <td>224428.0</td>\n",
       "      <td>Tools Product Type</td>\n",
       "      <td>Power Tool</td>\n",
       "    </tr>\n",
       "  </tbody>\n",
       "</table>\n",
       "</div>"
      ],
      "text/plain": [
       "         product_uid                     name                value\n",
       "2044793     224428.0           Individual/Set           Individual\n",
       "2044794     224428.0             Material Cut        Multi-Purpose\n",
       "2044795     224428.0           MFG Brand Name                Bosch\n",
       "2044796     224428.0  Min Chuck Size Required              3/8 In.\n",
       "2044797     224428.0         Number of Pieces                    1\n",
       "2044798     224428.0       Pilot Bit Included                   No\n",
       "2044799     224428.0  Power Tool Product Type  Drill & Router Bits\n",
       "2044800     224428.0           Shank Diameter               3/8 in\n",
       "2044801     224428.0              Shank Style                  Hex\n",
       "2044802     224428.0       Tools Product Type           Power Tool"
      ]
     },
     "execution_count": 19,
     "metadata": {},
     "output_type": "execute_result"
    }
   ],
   "source": [
    "df_attr = pd.read_csv('raw_data/attributes.csv', encoding = 'ISO-8859-1')\n",
    "print(df_attr.shape)\n",
    "df_attr.tail(10)"
   ]
  },
  {
   "cell_type": "code",
   "execution_count": 20,
   "metadata": {},
   "outputs": [
    {
     "name": "stdout",
     "output_type": "stream",
     "text": [
      "There are 38165 of the total 124428 products without attributes\n"
     ]
    }
   ],
   "source": [
    "# How many products have attributes?\n",
    "\n",
    "merged_df = df_desc.merge(df_attr, how='left', on='product_uid', indicator=True)\n",
    "missing_uids = merged_df[merged_df['_merge'] == 'left_only']['product_uid']\n",
    "\n",
    "no_attr_products = len(missing_uids.to_list())\n",
    "\n",
    "print(f'There are {str(no_attr_products)} of the total {str(len(df_desc))} products without attributes')"
   ]
  },
  {
   "cell_type": "code",
   "execution_count": 21,
   "metadata": {},
   "outputs": [
    {
     "data": {
      "text/plain": [
       "5411"
      ]
     },
     "execution_count": 21,
     "metadata": {},
     "output_type": "execute_result"
    }
   ],
   "source": [
    "# How many attribute types are there?\n",
    "len(df_attr['name'].unique())"
   ]
  },
  {
   "cell_type": "code",
   "execution_count": 22,
   "metadata": {},
   "outputs": [
    {
     "data": {
      "text/plain": [
       "array(['Bullet01', 'Bullet02', 'Bullet03', ..., 'Grill light included',\n",
       "       'Side Burner', 'Warming Rack'], dtype=object)"
      ]
     },
     "execution_count": 22,
     "metadata": {},
     "output_type": "execute_result"
    }
   ],
   "source": [
    "df_attr['name'].unique()"
   ]
  },
  {
   "cell_type": "code",
   "execution_count": 23,
   "metadata": {},
   "outputs": [
    {
     "data": {
      "text/plain": [
       "count    86263.000000\n",
       "mean        23.702491\n",
       "std          9.614134\n",
       "min          5.000000\n",
       "25%         17.000000\n",
       "50%         22.000000\n",
       "75%         29.000000\n",
       "max         88.000000\n",
       "dtype: float64"
      ]
     },
     "execution_count": 23,
     "metadata": {},
     "output_type": "execute_result"
    }
   ],
   "source": [
    "# How many attributes do products typically have?\n",
    "\n",
    "pd.Series(df_attr.groupby('product_uid').size()).describe()"
   ]
  },
  {
   "cell_type": "markdown",
   "metadata": {},
   "source": [
    "# Create Datasets"
   ]
  },
  {
   "cell_type": "code",
   "execution_count": 24,
   "metadata": {},
   "outputs": [],
   "source": [
    "def convert_to_dict(string):\n",
    "    try:\n",
    "        return ast.literal_eval(string)\n",
    "    except (SyntaxError, ValueError):\n",
    "        return None  # Handle cases where the string is not a valid dictionary representation\n"
   ]
  },
  {
   "cell_type": "code",
   "execution_count": 25,
   "metadata": {},
   "outputs": [],
   "source": [
    "def generate_id(text):\n",
    "    hash_object = hashlib.sha256(text.encode('utf-8'))  # SHA-256 example\n",
    "    hex_digest = hash_object.hexdigest()\n",
    "    return hex_digest"
   ]
  },
  {
   "cell_type": "markdown",
   "metadata": {},
   "source": [
    "## Products"
   ]
  },
  {
   "cell_type": "code",
   "execution_count": 27,
   "metadata": {},
   "outputs": [
    {
     "data": {
      "text/html": [
       "<div>\n",
       "<style scoped>\n",
       "    .dataframe tbody tr th:only-of-type {\n",
       "        vertical-align: middle;\n",
       "    }\n",
       "\n",
       "    .dataframe tbody tr th {\n",
       "        vertical-align: top;\n",
       "    }\n",
       "\n",
       "    .dataframe thead th {\n",
       "        text-align: right;\n",
       "    }\n",
       "</style>\n",
       "<table border=\"1\" class=\"dataframe\">\n",
       "  <thead>\n",
       "    <tr style=\"text-align: right;\">\n",
       "      <th></th>\n",
       "      <th>product_uid</th>\n",
       "      <th>product_title</th>\n",
       "      <th>product_description</th>\n",
       "      <th>product_attributes</th>\n",
       "    </tr>\n",
       "  </thead>\n",
       "  <tbody>\n",
       "    <tr>\n",
       "      <th>0</th>\n",
       "      <td>100001</td>\n",
       "      <td>Simpson Strong-Tie 12-Gauge Angle</td>\n",
       "      <td>Not only do angles make joints stronger, they ...</td>\n",
       "      <td>{'Bullet01': 'Versatile connector for various ...</td>\n",
       "    </tr>\n",
       "    <tr>\n",
       "      <th>1</th>\n",
       "      <td>100002</td>\n",
       "      <td>BEHR Premium Textured DeckOver 1-gal. #SC-141 ...</td>\n",
       "      <td>BEHR Premium Textured DECKOVER is an innovativ...</td>\n",
       "      <td>{'Application Method': 'Brush,Roller,Spray', '...</td>\n",
       "    </tr>\n",
       "    <tr>\n",
       "      <th>2</th>\n",
       "      <td>100005</td>\n",
       "      <td>Delta Vero 1-Handle Shower Only Faucet Trim Ki...</td>\n",
       "      <td>Update your bathroom with the Delta Vero Singl...</td>\n",
       "      <td>{'Bath Faucet Type': 'Combo Tub and Shower', '...</td>\n",
       "    </tr>\n",
       "    <tr>\n",
       "      <th>3</th>\n",
       "      <td>100006</td>\n",
       "      <td>Whirlpool 1.9 cu. ft. Over the Range Convectio...</td>\n",
       "      <td>Achieving delicious results is almost effortle...</td>\n",
       "      <td>{'Appliance Type': 'Over the Range Microwave',...</td>\n",
       "    </tr>\n",
       "    <tr>\n",
       "      <th>4</th>\n",
       "      <td>100007</td>\n",
       "      <td>Lithonia Lighting Quantum 2-Light Black LED Em...</td>\n",
       "      <td>The Quantum Adjustable 2-Light LED Black Emerg...</td>\n",
       "      <td>{'Battery Power Type': 'Ni-Cad', 'Battery Size...</td>\n",
       "    </tr>\n",
       "  </tbody>\n",
       "</table>\n",
       "</div>"
      ],
      "text/plain": [
       "   product_uid                                      product_title  \\\n",
       "0       100001                  Simpson Strong-Tie 12-Gauge Angle   \n",
       "1       100002  BEHR Premium Textured DeckOver 1-gal. #SC-141 ...   \n",
       "2       100005  Delta Vero 1-Handle Shower Only Faucet Trim Ki...   \n",
       "3       100006  Whirlpool 1.9 cu. ft. Over the Range Convectio...   \n",
       "4       100007  Lithonia Lighting Quantum 2-Light Black LED Em...   \n",
       "\n",
       "                                 product_description  \\\n",
       "0  Not only do angles make joints stronger, they ...   \n",
       "1  BEHR Premium Textured DECKOVER is an innovativ...   \n",
       "2  Update your bathroom with the Delta Vero Singl...   \n",
       "3  Achieving delicious results is almost effortle...   \n",
       "4  The Quantum Adjustable 2-Light LED Black Emerg...   \n",
       "\n",
       "                                  product_attributes  \n",
       "0  {'Bullet01': 'Versatile connector for various ...  \n",
       "1  {'Application Method': 'Brush,Roller,Spray', '...  \n",
       "2  {'Bath Faucet Type': 'Combo Tub and Shower', '...  \n",
       "3  {'Appliance Type': 'Over the Range Microwave',...  \n",
       "4  {'Battery Power Type': 'Ni-Cad', 'Battery Size...  "
      ]
     },
     "execution_count": 27,
     "metadata": {},
     "output_type": "execute_result"
    }
   ],
   "source": [
    "# Products\n",
    "\n",
    "filename = \"processed_data/df_prods.csv\"\n",
    "\n",
    "if os.path.isfile(filename):\n",
    "    df_prods = pd.read_csv(filename)\n",
    "    df_prods['product_attributes'] = df_prods['product_attributes'].apply(convert_to_dict)\n",
    "\n",
    "else:\n",
    "    # Start with product ids and titles\n",
    "    df_prods = df[['product_uid', 'product_title']].drop_duplicates().reset_index(drop=True)\n",
    "\n",
    "    # Merge in descriptions\n",
    "    df_prods = df_prods.merge(df_desc, how = 'left', on = 'product_uid')\n",
    "\n",
    "    # Collect attributes\n",
    "    attr_ids = []\n",
    "    attr_dicts = []\n",
    "    for id in df_attr['product_uid'].unique():\n",
    "        attr_ids.append(id)\n",
    "        attr_tmp = df_attr[df_attr['product_uid']==id]\n",
    "        if len(attr_tmp)>0:\n",
    "            attrs = {}\n",
    "            for index, row in attr_tmp.iterrows():\n",
    "                attrs[row['name']] = row['value']\n",
    "            attr_dicts.append(attrs)\n",
    "        else:\n",
    "            attr_dicts.append(None)\n",
    "\n",
    "    df_attributes = pd.DataFrame({'product_uid': attr_ids,\n",
    "                                'product_attributes': attr_dicts})     \n",
    "\n",
    "    # Merge in attributes\n",
    "    df_prods = df_prods.merge(df_attributes, how = 'left', on = 'product_uid')\n",
    "\n",
    "    df_prods.to_csv(filename, index=False)\n",
    "\n",
    "df_prods.head()"
   ]
  },
  {
   "cell_type": "markdown",
   "metadata": {},
   "source": [
    "## Queries"
   ]
  },
  {
   "cell_type": "code",
   "execution_count": 29,
   "metadata": {},
   "outputs": [
    {
     "data": {
      "text/html": [
       "<div>\n",
       "<style scoped>\n",
       "    .dataframe tbody tr th:only-of-type {\n",
       "        vertical-align: middle;\n",
       "    }\n",
       "\n",
       "    .dataframe tbody tr th {\n",
       "        vertical-align: top;\n",
       "    }\n",
       "\n",
       "    .dataframe thead th {\n",
       "        text-align: right;\n",
       "    }\n",
       "</style>\n",
       "<table border=\"1\" class=\"dataframe\">\n",
       "  <thead>\n",
       "    <tr style=\"text-align: right;\">\n",
       "      <th></th>\n",
       "      <th>search_term</th>\n",
       "      <th>query_id</th>\n",
       "      <th>has_relevant_results</th>\n",
       "    </tr>\n",
       "  </thead>\n",
       "  <tbody>\n",
       "    <tr>\n",
       "      <th>0</th>\n",
       "      <td>angle bracket</td>\n",
       "      <td>6e0a07626e48aee6f7ce9ec6cd753426d6acafded1598f...</td>\n",
       "      <td>1</td>\n",
       "    </tr>\n",
       "    <tr>\n",
       "      <th>1</th>\n",
       "      <td>l bracket</td>\n",
       "      <td>5863e75dfdc9ae5db3f6b4dbddf129d5568e085bf57711...</td>\n",
       "      <td>1</td>\n",
       "    </tr>\n",
       "    <tr>\n",
       "      <th>2</th>\n",
       "      <td>deck over</td>\n",
       "      <td>406b3569b2db043604fdb42a67f4ec49964a5ff07cddf0...</td>\n",
       "      <td>1</td>\n",
       "    </tr>\n",
       "    <tr>\n",
       "      <th>3</th>\n",
       "      <td>rain shower head</td>\n",
       "      <td>49b2dc56a0e1945c435c1579c07df519878619e3e8d59d...</td>\n",
       "      <td>1</td>\n",
       "    </tr>\n",
       "    <tr>\n",
       "      <th>4</th>\n",
       "      <td>shower only faucet</td>\n",
       "      <td>7620551bacb6cdddca5f33ec0943cea7971095a1e9be06...</td>\n",
       "      <td>1</td>\n",
       "    </tr>\n",
       "  </tbody>\n",
       "</table>\n",
       "</div>"
      ],
      "text/plain": [
       "          search_term                                           query_id  \\\n",
       "0       angle bracket  6e0a07626e48aee6f7ce9ec6cd753426d6acafded1598f...   \n",
       "1           l bracket  5863e75dfdc9ae5db3f6b4dbddf129d5568e085bf57711...   \n",
       "2           deck over  406b3569b2db043604fdb42a67f4ec49964a5ff07cddf0...   \n",
       "3    rain shower head  49b2dc56a0e1945c435c1579c07df519878619e3e8d59d...   \n",
       "4  shower only faucet  7620551bacb6cdddca5f33ec0943cea7971095a1e9be06...   \n",
       "\n",
       "   has_relevant_results  \n",
       "0                     1  \n",
       "1                     1  \n",
       "2                     1  \n",
       "3                     1  \n",
       "4                     1  "
      ]
     },
     "execution_count": 29,
     "metadata": {},
     "output_type": "execute_result"
    }
   ],
   "source": [
    "# Queries\n",
    "\n",
    "filename = \"processed_data/df_queries.csv\"\n",
    "\n",
    "if os.path.isfile(filename):\n",
    "    df_queries = pd.read_csv(filename)\n",
    "else:\n",
    "    df_queries = pd.DataFrame(df['search_term'].unique()).rename(columns={0: 'search_term'})\n",
    "    df_queries['query_id'] = [generate_id(x) for x in df_queries['search_term']]\n",
    "    df_queries['has_relevant_results'] = df_queries['search_term'].isin(df_train['search_term']).astype(int)\n",
    "\n",
    "    df_queries.to_csv(filename, index=False)\n",
    "\n",
    "df_queries.head()"
   ]
  },
  {
   "cell_type": "markdown",
   "metadata": {},
   "source": [
    "## Query Relevance"
   ]
  },
  {
   "cell_type": "code",
   "execution_count": 31,
   "metadata": {},
   "outputs": [
    {
     "data": {
      "text/html": [
       "<div>\n",
       "<style scoped>\n",
       "    .dataframe tbody tr th:only-of-type {\n",
       "        vertical-align: middle;\n",
       "    }\n",
       "\n",
       "    .dataframe tbody tr th {\n",
       "        vertical-align: top;\n",
       "    }\n",
       "\n",
       "    .dataframe thead th {\n",
       "        text-align: right;\n",
       "    }\n",
       "</style>\n",
       "<table border=\"1\" class=\"dataframe\">\n",
       "  <thead>\n",
       "    <tr style=\"text-align: right;\">\n",
       "      <th></th>\n",
       "      <th>query_id</th>\n",
       "      <th>product_uid</th>\n",
       "      <th>relevance</th>\n",
       "    </tr>\n",
       "  </thead>\n",
       "  <tbody>\n",
       "    <tr>\n",
       "      <th>0</th>\n",
       "      <td>6e0a07626e48aee6f7ce9ec6cd753426d6acafded1598f...</td>\n",
       "      <td>100001</td>\n",
       "      <td>3.00</td>\n",
       "    </tr>\n",
       "    <tr>\n",
       "      <th>1</th>\n",
       "      <td>5863e75dfdc9ae5db3f6b4dbddf129d5568e085bf57711...</td>\n",
       "      <td>100001</td>\n",
       "      <td>2.50</td>\n",
       "    </tr>\n",
       "    <tr>\n",
       "      <th>2</th>\n",
       "      <td>406b3569b2db043604fdb42a67f4ec49964a5ff07cddf0...</td>\n",
       "      <td>100002</td>\n",
       "      <td>3.00</td>\n",
       "    </tr>\n",
       "    <tr>\n",
       "      <th>3</th>\n",
       "      <td>49b2dc56a0e1945c435c1579c07df519878619e3e8d59d...</td>\n",
       "      <td>100005</td>\n",
       "      <td>2.33</td>\n",
       "    </tr>\n",
       "    <tr>\n",
       "      <th>4</th>\n",
       "      <td>7620551bacb6cdddca5f33ec0943cea7971095a1e9be06...</td>\n",
       "      <td>100005</td>\n",
       "      <td>2.67</td>\n",
       "    </tr>\n",
       "  </tbody>\n",
       "</table>\n",
       "</div>"
      ],
      "text/plain": [
       "                                            query_id  product_uid  relevance\n",
       "0  6e0a07626e48aee6f7ce9ec6cd753426d6acafded1598f...       100001       3.00\n",
       "1  5863e75dfdc9ae5db3f6b4dbddf129d5568e085bf57711...       100001       2.50\n",
       "2  406b3569b2db043604fdb42a67f4ec49964a5ff07cddf0...       100002       3.00\n",
       "3  49b2dc56a0e1945c435c1579c07df519878619e3e8d59d...       100005       2.33\n",
       "4  7620551bacb6cdddca5f33ec0943cea7971095a1e9be06...       100005       2.67"
      ]
     },
     "execution_count": 31,
     "metadata": {},
     "output_type": "execute_result"
    }
   ],
   "source": [
    "# Join query_ids onto df_train\n",
    "\n",
    "filename = \"processed_data/df_relevance.csv\"\n",
    "\n",
    "if os.path.isfile(filename):\n",
    "    df_relevance = pd.read_csv(filename)\n",
    "else:\n",
    "    df_relevance = df_train.merge(df_queries, how = 'left', on = 'search_term')\n",
    "    df_relevance = df_relevance[['query_id', 'product_uid', 'relevance']]\n",
    "    df_relevance.to_csv(filename, index=False)\n",
    "df_relevance.head()"
   ]
  },
  {
   "cell_type": "code",
   "execution_count": null,
   "metadata": {},
   "outputs": [],
   "source": []
  }
 ],
 "metadata": {
  "kernelspec": {
   "display_name": "homedepot",
   "language": "python",
   "name": "homedepot"
  },
  "language_info": {
   "codemirror_mode": {
    "name": "ipython",
    "version": 3
   },
   "file_extension": ".py",
   "mimetype": "text/x-python",
   "name": "python",
   "nbconvert_exporter": "python",
   "pygments_lexer": "ipython3",
   "version": "3.10.14"
  }
 },
 "nbformat": 4,
 "nbformat_minor": 2
}
